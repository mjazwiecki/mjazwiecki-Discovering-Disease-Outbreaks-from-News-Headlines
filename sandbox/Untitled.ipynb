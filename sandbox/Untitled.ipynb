{
 "cells": [
  {
   "cell_type": "code",
   "execution_count": 1,
   "metadata": {},
   "outputs": [],
   "source": [
    "from geonamescache import GeonamesCache\n",
    "gc = GeonamesCache()"
   ]
  },
  {
   "cell_type": "code",
   "execution_count": 53,
   "metadata": {},
   "outputs": [
    {
     "name": "stdout",
     "output_type": "stream",
     "text": [
      "GeonamesCache holds data for 252 countries.\n",
      "The following data pertains to the United States:\n",
      "{'geonameid': 798544, 'name': 'Poland', 'iso': 'PL', 'iso3': 'POL', 'isonumeric': 616, 'fips': 'PL', 'continentcode': 'EU', 'capital': 'Warsaw', 'areakm2': 312685, 'population': 38500000, 'tld': '.pl', 'currencycode': 'PLN', 'currencyname': 'Zloty', 'phone': '48', 'postalcoderegex': '^\\\\d{2}-\\\\d{3}$', 'languages': 'pl', 'neighbours': 'DE,LT,SK,CZ,BY,UA,RU'}\n"
     ]
    }
   ],
   "source": [
    "countries = gc.get_countries()\n",
    "num_countries = len(countries)\n",
    "print(f\"GeonamesCache holds data for {num_countries} countries.\")\n",
    "\n",
    "us_data = countries['PL']\n",
    "print(\"The following data pertains to the United States:\")\n",
    "print(us_data)"
   ]
  },
  {
   "cell_type": "code",
   "execution_count": 54,
   "metadata": {},
   "outputs": [
    {
     "name": "stdout",
     "output_type": "stream",
     "text": [
      "Germany\n",
      "Lithuania\n",
      "Slovakia\n",
      "Czechia\n",
      "Belarus\n",
      "Ukraine\n",
      "Russia\n"
     ]
    }
   ],
   "source": [
    "us_neighbors = us_data['neighbours']\n",
    "for neighbor_code in us_neighbors.split(','):\n",
    "    print(countries[neighbor_code]['name'])"
   ]
  },
  {
   "cell_type": "code",
   "execution_count": 55,
   "metadata": {},
   "outputs": [],
   "source": [
    "result = gc.get_countries_by_names()['United States']\n",
    "assert result == countries['US']"
   ]
  },
  {
   "cell_type": "code",
   "execution_count": 56,
   "metadata": {},
   "outputs": [
    {
     "name": "stdout",
     "output_type": "stream",
     "text": [
      "{'geonameid': 6252001, 'name': 'United States', 'iso': 'US', 'iso3': 'USA', 'isonumeric': 840, 'fips': 'US', 'continentcode': 'NA', 'capital': 'Washington', 'areakm2': 9629091, 'population': 310232863, 'tld': '.us', 'currencycode': 'USD', 'currencyname': 'Dollar', 'phone': '1', 'postalcoderegex': '^\\\\d{5}(-\\\\d{4})?$', 'languages': 'en-US,es-US,haw,fr', 'neighbours': 'CA,MX,CU'}\n"
     ]
    }
   ],
   "source": [
    "print(result)"
   ]
  },
  {
   "cell_type": "code",
   "execution_count": 57,
   "metadata": {},
   "outputs": [
    {
     "name": "stdout",
     "output_type": "stream",
     "text": [
      "GeoNamesCache holds data for 24336 total cities\n",
      "{'geonameid': 3041563, 'name': 'Andorra la Vella', 'latitude': 42.50779, 'longitude': 1.52109, 'countrycode': 'AD', 'population': 20430, 'timezone': 'Europe/Andorra', 'admin1code': '07'}\n"
     ]
    }
   ],
   "source": [
    "cities = gc.get_cities()\n",
    "num_cities = len(cities)\n",
    "print(f\"GeoNamesCache holds data for {num_cities} total cities\")\n",
    "city_id = list(cities.keys())[0]\n",
    "print(cities[city_id])"
   ]
  },
  {
   "cell_type": "code",
   "execution_count": 58,
   "metadata": {},
   "outputs": [
    {
     "name": "stdout",
     "output_type": "stream",
     "text": [
      "GeoNamesCache holds data for 3249 US cities.\n"
     ]
    }
   ],
   "source": [
    "us_cities = [city for city in cities.values()\n",
    "             if city['countrycode'] == 'US']\n",
    "num_us_cities = len(us_cities)\n",
    "print(f\"GeoNamesCache holds data for {num_us_cities} US cities.\")"
   ]
  },
  {
   "cell_type": "code",
   "execution_count": 59,
   "metadata": {},
   "outputs": [
    {
     "ename": "NameError",
     "evalue": "name 'np' is not defined",
     "output_type": "error",
     "traceback": [
      "\u001b[0;31m---------------------------------------------------------------------------\u001b[0m",
      "\u001b[0;31mNameError\u001b[0m                                 Traceback (most recent call last)",
      "\u001b[0;32m<ipython-input-59-13f54537ec7c>\u001b[0m in \u001b[0;36m<module>\u001b[0;34m\u001b[0m\n\u001b[0;32m----> 1\u001b[0;31m center_lat = np.mean([city['latitude']\n\u001b[0m\u001b[1;32m      2\u001b[0m                       for city in us_cities])\n\u001b[1;32m      3\u001b[0m center_lon = np.mean([city['longitude']\n\u001b[1;32m      4\u001b[0m                        for city in us_cities])\n\u001b[1;32m      5\u001b[0m \u001b[0;34m\u001b[0m\u001b[0m\n",
      "\u001b[0;31mNameError\u001b[0m: name 'np' is not defined"
     ]
    }
   ],
   "source": [
    "center_lat = np.mean([city['latitude']\n",
    "                      for city in us_cities])\n",
    "center_lon = np.mean([city['longitude']\n",
    "                       for city in us_cities])\n",
    "\n",
    "fig = plt.figure(figsize=(12, 8))\n",
    "map_lcc = Basemap(projection='lcc', lon_0=-95, llcrnrlon=-119,\n",
    "                  llcrnrlat=22, urcrnrlon=-64, urcrnrlat=49, lat_1=33,\n",
    "                  lat_2=45)\n",
    "map_lcc.scatter([center_lon], [center_lat], latlon=True, s=200)\n",
    "map_lcc.drawcoastlines()\n",
    "map_lcc.drawstates()\n",
    "plt.show()"
   ]
  },
  {
   "cell_type": "code",
   "execution_count": null,
   "metadata": {},
   "outputs": [],
   "source": []
  }
 ],
 "metadata": {
  "kernelspec": {
   "display_name": "Python 3",
   "language": "python",
   "name": "python3"
  },
  "language_info": {
   "codemirror_mode": {
    "name": "ipython",
    "version": 3
   },
   "file_extension": ".py",
   "mimetype": "text/x-python",
   "name": "python",
   "nbconvert_exporter": "python",
   "pygments_lexer": "ipython3",
   "version": "3.7.6"
  }
 },
 "nbformat": 4,
 "nbformat_minor": 4
}
