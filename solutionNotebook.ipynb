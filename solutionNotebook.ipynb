{
 "cells": [
  {
   "cell_type": "code",
   "execution_count": null,
   "metadata": {},
   "outputs": [],
   "source": [
    "import pandas as pd \n",
    "import re\n",
    "import geonamescache\n",
    "from unidecode import unidecode"
   ]
  },
  {
   "cell_type": "code",
   "execution_count": null,
   "metadata": {},
   "outputs": [],
   "source": [
    "f = open('./data/headlines.txt',\"r\")\n",
    "headlines = f.read().splitlines()\n",
    "f.close()"
   ]
  },
  {
   "cell_type": "code",
   "execution_count": null,
   "metadata": {},
   "outputs": [],
   "source": [
    "for headline in headlines:\n",
    "    print(headline)"
   ]
  },
  {
   "cell_type": "code",
   "execution_count": null,
   "metadata": {},
   "outputs": [],
   "source": [
    "gc = geonamescache.GeonamesCache()\n",
    "citiesNorm = []\n",
    "citiesOrg = []\n",
    "cityUnidecode = \"\"\n",
    "\n",
    "for city in gc.get_cities().values():\n",
    "    name = city['name']\n",
    "    cityUnidecode = unidecode(city['name']).replace(\"'\", \"\")\n",
    "    citiesNorm.append(cityUnidecode)\n",
    "    citiesOrg.append(city['name'])\n",
    "        \n",
    "citiesNorm.sort(key=lambda item: (-len(item), item), reverse=False)\n",
    "citiesOrg.sort(key=lambda item: (-len(item), item), reverse=False)\n",
    "\n",
    "\n",
    "\n",
    "_cities = \"|\".join(citiesNorm)\n",
    "regexCity = \"\\\\b(\" + _cities + \")\\\\b\"\n",
    "compiledReCity = re.compile(regexCity)"
   ]
  },
  {
   "cell_type": "code",
   "execution_count": null,
   "metadata": {},
   "outputs": [],
   "source": [
    "countriesNorm = []\n",
    "countriesOrg = []\n",
    "countryUnidecode = \"\"\n",
    "\n",
    "for country in gc.get_countries().values():\n",
    "    name = country['name']\n",
    "    countryUnidecode = unidecode(country['name'])\n",
    "    countriesNorm.append(countryUnidecode)\n",
    "    countriesOrg.append(country['name'])\n",
    "        \n",
    "countriesNorm.sort(key=lambda item: (-len(item), item), reverse=False)\n",
    "countriesOrg.sort(key=lambda item: (-len(item), item), reverse=False)\n",
    "\n",
    "\n",
    "\n",
    "_countries = \"|\".join(countriesNorm)\n",
    "regexCountry = \"\\\\b(\" + _countries + \")\\\\b\"\n",
    "compiledReCountry = re.compile(regexCountry)"
   ]
  },
  {
   "cell_type": "code",
   "execution_count": null,
   "metadata": {},
   "outputs": [],
   "source": [
    "df = pd.DataFrame(columns =['headline', 'city', 'country']) "
   ]
  },
  {
   "cell_type": "code",
   "execution_count": null,
   "metadata": {},
   "outputs": [],
   "source": [
    "for headline in headlines:\n",
    "    m = compiledReCity.search(headline)\n",
    "    if m == None:\n",
    "        n = compiledReCountry.search(headline)\n",
    "        if n == None:\n",
    "            df = df.append({'headline' : headline, \"city\" : \"\" , \"country\" : \"\"} , ignore_index=True)  \n",
    "        else:\n",
    "            _country = n.group(0)\n",
    "            df = df.append({'headline' : headline, \"city\" : \"\" , \"country\" : _country} , ignore_index=True)    \n",
    "    else:  \n",
    "        _city = m.group(0)\n",
    "        citiesMatch = {}\n",
    "        for city in citiesOrg: \n",
    "            if _city == unidecode(city).replace(\"'\", \"\"):\n",
    "                _cities = gc.get_cities_by_name(city)\n",
    "                for _c in _cities:\n",
    "                    for key, value in _c.items(): \n",
    "                        citiesMatch[key] = value\n",
    "        biggestCity = {}\n",
    "        for cityKey in citiesMatch:\n",
    "            if len(biggestCity) == 0:\n",
    "                biggestCity = citiesMatch[cityKey]\n",
    "            else:\n",
    "                if citiesMatch[cityKey]['population'] > biggestCity['population']:\n",
    "                    biggestCity = citiesMatch[cityKey]\n",
    "        df = df.append({'headline' : headline, \"city\" : biggestCity['name'] , \"country\" : biggestCity['countrycode']} , ignore_index=True)  \n",
    "print(df)"
   ]
  },
  {
   "cell_type": "code",
   "execution_count": null,
   "metadata": {},
   "outputs": [],
   "source": []
  }
 ],
 "metadata": {
  "kernelspec": {
   "display_name": "Python 3",
   "language": "python",
   "name": "python3"
  },
  "language_info": {
   "codemirror_mode": {
    "name": "ipython",
    "version": 3
   },
   "file_extension": ".py",
   "mimetype": "text/x-python",
   "name": "python",
   "nbconvert_exporter": "python",
   "pygments_lexer": "ipython3",
   "version": "3.7.6"
  }
 },
 "nbformat": 4,
 "nbformat_minor": 4
}
